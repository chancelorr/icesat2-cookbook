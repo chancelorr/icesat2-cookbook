{
 "cells": [
  {
   "cell_type": "markdown",
   "id": "78cee78b",
   "metadata": {},
   "source": [
    "# Geospatial Transforms \n",
    "\n",
    "## Author(s)\n",
    "\n",
    "Tyler Sutterley, Hannah Besso, Scott Henderson, David Shean\n",
    "\n",
    "## Existing Notebooks\n",
    "\n",
    "[Geospatial Transforms](https://icesat-2-2022.hackweek.io/tutorials/geospatial/geospatial-intro.html)\n",
    "\n",
    "## Learning Outcomes\n",
    "\n",
    "* Review fundamental concepts of geospatial coordinate reference systems (CRS)\n",
    "\n",
    "* Learn how to access CRS metadata\n",
    "\n",
    "* Learn basic coordinate transformations relevant to ICESat-2\n",
    "\n",
    "```{admonition}\n",
    "\n",
    "ICESat-2 elevations are spatial point data. Spatial data contains information about _where_ on the surface of the Earth a certain feature is located, and there are many different ways to define this location. While this seems straightforward, two main characteristics of the Earth make defining locations difficult: \n",
    "\n",
    "1) Earth is 3-dimensional (working with spatial data would be a lot easier if the world were flat)!\n",
    "\n",
    "2) Paper maps and computer screens are flat, which causes issues when we try to use them to display rounded shapes (like the Earth's surface). Making things even more difficult, _the irregular shape of the Earth means there is no one perfect model of its surface on which we could place our spatial data points_! Instead, we're left with many models of the Earth's surface that are optimized for different locations and purposes. \n",
    "```"
   ]
  },
  {
   "cell_type": "code",
   "execution_count": null,
   "id": "04f9a005-6088-4966-9b2f-7214974ad4da",
   "metadata": {},
   "outputs": [],
   "source": [
    "import os\n",
    "import pyproj\n",
    "import warnings\n",
    "import numpy as np\n",
    "import rioxarray\n",
    "import xarray as xr\n",
    "import earthaccess\n",
    "import geodatasets\n",
    "import geopandas as gpd\n",
    "import shapely.geometry\n",
    "import matplotlib.pyplot as plt\n",
    "import matplotlib.colors as mcolors\n",
    "from mpl_toolkits import mplot3d\n",
    "warnings.filterwarnings('ignore')\n",
    "AWS_DEFAULT_REGION = os.environ.get('AWS_DEFAULT_REGION', '')\n",
    "\n",
    "%matplotlib inline"
   ]
  },
  {
   "cell_type": "markdown",
   "id": "29ab708d-6701-4334-bb6f-f626cf144814",
   "metadata": {},
   "source": [
    "In this notebook, we will explore coordinate systems, map projections, geophysical concepts and available geospatial software tools.\n",
    "\n",
    "We're going to use [`geopandas`](https://geopandas.org), [`xarray`](https://xarray.dev), and [`matplotlib`](https://matplotlib.org/) for visualization.\n",
    "\n",
    "[`geopandas`](https://geopandas.org) is built on top of other great computing and geospatial tools, which will make our lives easier on this notebook.\n",
    "- [numpy: Scientific Computing Tools For Python](http://www.numpy.org)\n",
    "- [pandas: Python Data Analysis Library](https://pandas.pydata.org)\n",
    "- [shapely: PostGIS-ish operations outside a database context for Python](https://shapely.readthedocs.io)\n",
    "- [GEOS: geometry, spatial operations](https://trac.osgeo.org/geos)\n",
    "- [GDAL/OGR: Pythonic interface to the Geospatial Data Abstraction Library (GDAL)](https://gdal.org)\n",
    "- [fiona: Python wrapper for vector data access functions from the OGR library](https://fiona.readthedocs.io)\n",
    "- [PROJ: cartographic projection and coordinate transformation library](https://proj.org)\n",
    "- [pyproj: Python interface to PROJ library](https://pyproj4.github.io)"
   ]
  },
  {
   "cell_type": "markdown",
   "id": "b505410a-8e89-4804-82c4-77a07b8b6315",
   "metadata": {},
   "source": [
    "## Let's Start by Making a Map\n",
    "\n",
    "```{admonition}\n",
    "**Q: Why are maps a good method to communicate _geographic_ data?**\n",
    "```"
   ]
  },
  {
   "cell_type": "code",
   "execution_count": null,
   "id": "4fde14d1-6927-426e-aee2-4cfc93be6a5d",
   "metadata": {},
   "outputs": [],
   "source": [
    "### geopandas vector data from geodatasets\n",
    "world = gpd.read_file(geodatasets.get_path('naturalearth.land'))\n",
    "world.head()"
   ]
  },
  {
   "cell_type": "code",
   "execution_count": null,
   "id": "c2a13114-b4a9-4747-bfcb-84c08299982d",
   "metadata": {},
   "outputs": [],
   "source": [
    "fig,ax1 = plt.subplots(num=1, figsize=(10,4.55))\n",
    "minlon,maxlon,minlat,maxlat = (-180,180,-90,90)\n",
    "world.plot(ax=ax1, color='0.8', edgecolor='none')\n",
    "# set x and y limits\n",
    "ax1.set_xlim(minlon,maxlon)\n",
    "ax1.set_ylim(minlat,maxlat)\n",
    "ax1.set_aspect('equal', adjustable='box')\n",
    "# add x and y labels\n",
    "ax1.set_xlabel('Longitude')\n",
    "ax1.set_ylabel('Latitude')\n",
    "# adjust subplot and show\n",
    "fig.subplots_adjust(left=0.06,right=0.98,bottom=0.08,top=0.98)"
   ]
  },
  {
   "attachments": {},
   "cell_type": "markdown",
   "id": "80d57afb-695e-40ec-b987-e75cf3a2bf4f",
   "metadata": {},
   "source": [
    "## Geographic Coordinate Systems\n",
    "\n",
    "Locations on Earth are usually specified in a geographic coordinate system consisting of\n",
    "- _Longitude_ specifies the angle east and west from the Prime Meridian (102 meters east of the Royal Observatory at Greenwich)\n",
    "- _Latitude_ specifies the angle north and south from the Equator\n",
    "\n",
    "The map above _projects_ geographic data from the Earth's 3-dimensional geometry on to a flat surface.  [The three common types of projections are _cylindric_, _conic_ and _planar_](https://courses.washington.edu/gis250/lessons/projection/).  Each type is a different way of flattening the Earth's geometry into 2-dimensional space.\n",
    "\n",
    ":::{list-table}\n",
    ":widths: 30 30 30\n",
    ":align: \"center\"\n",
    ":header-rows: 1\n",
    "\n",
    "*   - Cylindric\n",
    "    - Conic\n",
    "    - Planar\n",
    "*   - ![cylindric](https://github.com/tsutterley/icesat-2-geophysical-transforms/blob/main/Miller-Cylindrical-Projection-425x233.png?raw=true)\n",
    "    - ![conic](https://github.com/tsutterley/icesat-2-geophysical-transforms/blob/main/North-America-Lambert-Conformal-Conic-Projection-425x233.png?raw=true)\n",
    "    - ![planar](https://github.com/tsutterley/icesat-2-geophysical-transforms/blob/main/Stereographic-Projection-425x233.png?raw=true)\n",
    "\n",
    ":::\n",
    "\n",
    "The above map is in an _Equirectangular Projection_ (Plate Carrée), where latitude and longitude are equally spaced.  Equirectangular is cylindrical projection, which has benefits as latitudes and longitudes form straight lines.  \n",
    "\n",
    "```{warning}\n",
    "While simple conceptually, equirectangular projections distort both _shape_ and _distance_, particularly at higher latitudes! So it is not a great choice for data analysis.\n",
    "```\n",
    "\n",
    "To illustrate distortion on this map below 👇, we've colored the normalized grid area at different latitudes below:\n"
   ]
  },
  {
   "cell_type": "code",
   "execution_count": null,
   "id": "b33f1050-a613-4aa8-a941-4600370633fd",
   "metadata": {},
   "outputs": [],
   "source": [
    "fig,ax1 = plt.subplots(num=1, figsize=(10.375,5.0))\n",
    "minlon,maxlon,minlat,maxlat = (-180,180,-90,90)\n",
    "dlon,dlat = (1.0,1.0)\n",
    "longitude = np.arange(minlon,maxlon+dlon,dlon)\n",
    "latitude = np.arange(minlat,maxlat+dlat,dlat)\n",
    "# calculate and plot grid area\n",
    "gridlon,gridlat = np.meshgrid(longitude, latitude)\n",
    "im = ax1.imshow(np.cos(gridlat*np.pi/180.0),\n",
    "    extent=(minlon,maxlon,minlat,maxlat), \n",
    "    interpolation='nearest',\n",
    "    cmap=plt.get_cmap('plasma'),\n",
    "    origin='lower')\n",
    "# add coastlines\n",
    "world.plot(ax=ax1, color='none', edgecolor='black')\n",
    "# set x and y limits\n",
    "ax1.set_xlim(minlon,maxlon)\n",
    "ax1.set_ylim(minlat,maxlat)\n",
    "ax1.set_aspect('equal', adjustable='box')\n",
    "# add x and y labels\n",
    "ax1.set_xlabel('Longitude')\n",
    "ax1.set_ylabel('Latitude')\n",
    "# add colorbar\n",
    "cbar = plt.colorbar(im, cax=fig.add_axes([0.92, 0.08, 0.025, 0.90]))\n",
    "cbar.ax.set_ylabel('Normalized Grid Area')\n",
    "cbar.solids.set_rasterized(True)\n",
    "# adjust subplot and show\n",
    "fig.subplots_adjust(left=0.06,right=0.9,bottom=0.08,top=0.98)"
   ]
  },
  {
   "cell_type": "markdown",
   "id": "466add83-0a9a-47bf-bb7c-6151384d8095",
   "metadata": {},
   "source": [
    "### The Components of a Coordinate Reference System (CRS):\n",
    "\n",
    "* **Projection Information:** the mathematical equation used to flatten objects that are on a round surface (e.g. the earth) so you can view them on a flat surface (e.g. your computer screens or a paper map).\n",
    "* **Coordinate System:** the X, Y, and Z grid upon which your data is overlaid and how you define where a point is located in space.\n",
    "* **Horizontal and vertical units:** The units used to define the grid along the x, y (and z) axis.\n",
    "* **Datum:** A modeled version of the shape of the earth which defines the origin used to place the coordinate system in space. \n",
    "\n",
    "👆 Borrowed from [Earth Data Science Coursework](https://www.earthdatascience.org/courses/use-data-open-source-python/intro-vector-data-python/spatial-data-vector-shapefiles/intro-to-coordinate-reference-systems-python/)"
   ]
  },
  {
   "cell_type": "markdown",
   "id": "e063677d-e9d9-47b8-aed5-83cc1d83413f",
   "metadata": {},
   "source": [
    "### Map Projections\n",
    "\n",
    "* _There is no perfect projection for all purposes_\n",
    "\n",
    "* Not all maps are good for ocean or land navigation\n",
    "\n",
    "* Not all projections are good for polar mapping\n",
    "\n",
    "* Every projection will distort either shape, area, distance or direction:\n",
    "     * _conformal_ projections minimize distortion in shape\n",
    "     * _equal-area_ projections minimize distortion in area\n",
    "     * _equidistant_ projections minimize distortion in distance\n",
    "     * _true-direction_ projections minimize distortion in direction\n",
    "\n",
    "While there are [projections that are better suited for specific purposes](https://pubs.usgs.gov/gip/70047422/report.pdf), [choosing a map projection](https://pubs.usgs.gov/pp/1395/report.pdf) is a bit of an art 🦋\n",
    "\n",
    "```{image} https://imgs.xkcd.com/comics/map_projections.png\n",
    ":alt: XKCD 977\n",
    ":width: 35%\n",
    ":target: https://xkcd.com/977/\n",
    ":align: center\n",
    "```\n",
    "👆 Obligatory [xkcd](https://xkcd.com/977/)"
   ]
  },
  {
   "cell_type": "markdown",
   "id": "ee44689f-f43c-414a-b1d8-33deda18fedd",
   "metadata": {},
   "source": [
    "```{admonition}\n",
    "**Q: What is your favorite projection?** 🌎\n",
    "\n",
    "**Q: What projections do you use in your research?** 🌏\n",
    "```"
   ]
  },
  {
   "cell_type": "markdown",
   "id": "6b2bc3d3-f625-4209-8628-c733c09b3896",
   "metadata": {},
   "source": [
    "#### Determine your data's CRS\n",
    "\n",
    "Using [`geopandas`](https://geopandas.org), we can get CRS information about our data:"
   ]
  },
  {
   "cell_type": "code",
   "execution_count": null,
   "id": "f91c3f1e-10de-4c37-b221-6911dc827a36",
   "metadata": {},
   "outputs": [],
   "source": [
    "world.crs"
   ]
  },
  {
   "cell_type": "markdown",
   "id": "ae6aad51-0472-421d-97b9-cc1a26dc0178",
   "metadata": {},
   "source": [
    "There are many different ways of [detailing a coordinate reference system (CRS)](https://spatialreference.org/).  Three common CRS formats are:\n",
    "1. [Well-Known Text (WKT)](https://www.ogc.org/standards/wkt-crs): can describe any coordinate reference system and is the standard for a lot of software\n",
    "\n",
    "```\n",
    "GEOGCS[\"WGS 84\",\n",
    "    DATUM[\"WGS_1984\",\n",
    "        SPHEROID[\"WGS 84\",6378137,298.257223563,\n",
    "            AUTHORITY[\"EPSG\",\"7030\"]],\n",
    "        AUTHORITY[\"EPSG\",\"6326\"]],\n",
    "    PRIMEM[\"Greenwich\",0,\n",
    "        AUTHORITY[\"EPSG\",\"8901\"]],\n",
    "    UNIT[\"degree\",0.01745329251994328,\n",
    "        AUTHORITY[\"EPSG\",\"9122\"]],\n",
    "    AUTHORITY[\"EPSG\",\"4326\"]]\n",
    "```\n",
    "2. [PROJ string](https://proj.org/): shorter with some less information but can also describe any coordinate reference system\n",
    "\n",
    "```\n",
    "+proj=longlat +ellps=WGS84 +datum=WGS84 +no_defs \n",
    "```\n",
    "3. [EPSG code](https://epsg.io/): simple and easy to remember\n",
    "\n",
    "```\n",
    "EPSG:4326\n",
    "```\n",
    "\n",
    "```{admonition} **EPSG:** European Petroleum Survey Group. Back in the day, this group created codes to standardize how different reference systems were referred to, and now EPSG codes are widely used in geospatial work! There are several websites that let you navigate the entire EPSG database: https://epsg.io/4326\n",
    "```\n",
    "\n",
    "```{important}\n",
    "_If CRS metadata on any products isn't included within the data product, make sure it's in the right projection and datum. Often metadata reports or readme files will provide this information._\n",
    "```"
   ]
  },
  {
   "cell_type": "markdown",
   "id": "a003af3a-83b9-404e-bd80-3b0b5e1fc9e7",
   "metadata": {},
   "source": [
    "### CRS Transforms of `GeoDataFrames`\n",
    "\n",
    "The Coordinate Reference System of a [`geopandas` `GeoDataFrame` can be transformed to another](http://geopandas.org/projections.html) using the `to_crs()` function.  The `to_crs()` function can import different forms including WKT strings, PROJ strings, EPSG codes and pyproj CRS objects.\n",
    "\n",
    "```{warning}\n",
    "`GeoDataFrames` must have an associated CRS before converting them to a new CRS\n",
    "```"
   ]
  },
  {
   "cell_type": "code",
   "execution_count": null,
   "id": "8ddc4f4b-16c4-4dd5-adf8-e17cbdf1876e",
   "metadata": {},
   "outputs": [],
   "source": [
    "world_antarctic = world[world.scalerank == 0].to_crs(3031)"
   ]
  },
  {
   "cell_type": "markdown",
   "id": "abc0a8ee-9e9a-4a30-b61a-17dfe43244d4",
   "metadata": {},
   "source": [
    "##### Did it work?"
   ]
  },
  {
   "cell_type": "code",
   "execution_count": null,
   "id": "e0717f62-2924-444b-b3be-fdab05ba10f4",
   "metadata": {},
   "outputs": [],
   "source": [
    "world_antarctic.crs"
   ]
  },
  {
   "cell_type": "markdown",
   "id": "82f61003-798e-4ae5-b495-add86dc1309f",
   "metadata": {},
   "source": [
    "🎉🎉🎉"
   ]
  },
  {
   "cell_type": "markdown",
   "id": "2043065f-ef8f-4bb1-9b11-4a9cc76ea49e",
   "metadata": {},
   "source": [
    "#### Let's plot our new Antarctic map\n",
    "🐧🐧🐧"
   ]
  },
  {
   "cell_type": "code",
   "execution_count": null,
   "id": "dab93781-23bc-4952-ae7c-09ce272a1ee0",
   "metadata": {},
   "outputs": [],
   "source": [
    "fig,ax3 = plt.subplots(num=3, figsize=(10,7.5))\n",
    "xmin,xmax,ymin,ymax = (-3100000,3100000,-2600000,2600000)\n",
    "# add Antarctic coastlines\n",
    "world_antarctic.plot(ax=ax3, color='0.8', edgecolor='none')\n",
    "# set x and y limits\n",
    "ax3.set_xlim(xmin,xmax)\n",
    "ax3.set_ylim(ymin,ymax)\n",
    "ax3.set_aspect('equal', adjustable='box')\n",
    "# adjust subplot and show\n",
    "fig.subplots_adjust(left=0.06,right=0.98,bottom=0.08,top=0.98)"
   ]
  },
  {
   "cell_type": "markdown",
   "id": "0f2043a9-a829-4e17-a2be-e2b2f75f3c91",
   "metadata": {},
   "source": [
    "Stereographic projections are common for mapping in polar regions.  A lot of legacy data products for both Greenland and Antarctica use polar stereographic projections. Some other polar products, such as NSIDC EASE/EASE-2 grids, are in _equal-area_ projections.  \n",
    "\n",
    "```{warning}\n",
    "Stereographic projections are _conformal_, preserving angles but not distances or areas.  _Equal-area_ map projection cannot be conformal, nor can a conformal map projection be equal-area.  \n",
    "```\n",
    "\n",
    "Here, we'll use the transform to get the latitude and longitude coordinates of points in this projection (an _inverse_ tranformation), and get the polar stereographic coordinates for plotting a circle around the standard parallel (-71°) of this projection (a _forward_ transformation).\n",
    "\n",
    "The _standard parallel_ of a stereographic projection is the latitude where there is no scale distortion."
   ]
  },
  {
   "cell_type": "code",
   "execution_count": null,
   "id": "3ef8e698-dd9a-4521-8509-f9a5514c993f",
   "metadata": {},
   "outputs": [],
   "source": [
    "def scale_factors(\n",
    "        lat: np.ndarray,\n",
    "        flat: float = 1.0/298.257223563,\n",
    "        reference_latitude: float = 70.0,\n",
    "        metric: str = 'area'\n",
    "    ):\n",
    "    \"\"\"\n",
    "    Calculates scaling factors to account for polar stereographic\n",
    "    distortion including special case of at the exact pole\n",
    "\n",
    "    Parameters\n",
    "    ----------\n",
    "    lat: np.ndarray\n",
    "        latitude (degrees north)\n",
    "    flat: float, default 1.0/298.257223563\n",
    "        ellipsoidal flattening\n",
    "    reference_latitude: float, default 70.0\n",
    "        reference latitude (true scale latitude)\n",
    "    metric: str, default 'area'\n",
    "        metric to calculate scaling factors\n",
    "\n",
    "            - ``'distance'``: scale factors for distance\n",
    "            - ``'area'``: scale factors for area\n",
    "\n",
    "    Returns\n",
    "    -------\n",
    "    scale: np.ndarray\n",
    "        scaling factors at input latitudes\n",
    "    \"\"\"\n",
    "    assert metric.lower() in ['distance', 'area'], 'Unknown metric'\n",
    "    # convert latitude from degrees to positive radians\n",
    "    theta = np.abs(lat)*np.pi/180.0\n",
    "    # convert reference latitude from degrees to positive radians\n",
    "    theta_ref = np.abs(reference_latitude)*np.pi/180.0\n",
    "    # square of the eccentricity of the ellipsoid\n",
    "    # ecc2 = (1-b**2/a**2) = 2.0*flat - flat^2\n",
    "    ecc2 = 2.0*flat - flat**2\n",
    "    # eccentricity of the ellipsoid\n",
    "    ecc = np.sqrt(ecc2)\n",
    "    # calculate ratio at input latitudes\n",
    "    m = np.cos(theta)/np.sqrt(1.0 - ecc2*np.sin(theta)**2)\n",
    "    t = np.tan(np.pi/4.0 - theta/2.0)/((1.0 - ecc*np.sin(theta)) / \\\n",
    "        (1.0 + ecc*np.sin(theta)))**(ecc/2.0)\n",
    "    # calculate ratio at reference latitude\n",
    "    mref = np.cos(theta_ref)/np.sqrt(1.0 - ecc2*np.sin(theta_ref)**2)\n",
    "    tref = np.tan(np.pi/4.0 - theta_ref/2.0)/((1.0 - ecc*np.sin(theta_ref)) / \\\n",
    "        (1.0 + ecc*np.sin(theta_ref)))**(ecc/2.0)\n",
    "    # distance scaling\n",
    "    k = (mref/m)*(t/tref)\n",
    "    kp = 0.5*mref*np.sqrt(((1.0+ecc)**(1.0+ecc))*((1.0-ecc)**(1.0-ecc)))/tref\n",
    "    if (metric.lower() == 'distance'):\n",
    "        # distance scaling\n",
    "        scale = np.where(np.isclose(theta, np.pi/2.0), 1.0/kp, 1.0/k)\n",
    "    elif (metric.lower() == 'area'):\n",
    "        # area scaling\n",
    "        scale = np.where(np.isclose(theta, np.pi/2.0), 1.0/(kp**2), 1.0/(k**2))\n",
    "    return scale"
   ]
  },
  {
   "cell_type": "code",
   "execution_count": null,
   "id": "cc0992c5-5781-4ea8-8129-8693dd53d110",
   "metadata": {},
   "outputs": [],
   "source": [
    "crs4326 = pyproj.CRS.from_epsg(4326)    # WGS84\n",
    "crs3031 = pyproj.CRS.from_epsg(3031)    # Antarctic Polar Stereographic\n",
    "transformer = pyproj.Transformer.from_crs(crs4326, crs3031, always_xy=True)"
   ]
  },
  {
   "cell_type": "code",
   "execution_count": null,
   "id": "e58a6f98-176f-4aae-8412-9b87912b6df7",
   "metadata": {},
   "outputs": [],
   "source": [
    "fig,ax3 = plt.subplots(num=3, figsize=(10,7.5))\n",
    "xmin,xmax,ymin,ymax = (-3100000,3100000,-2600000,2600000)\n",
    "dx,dy = (10000,10000)\n",
    "# create a grid of polar stereographic points\n",
    "X = np.arange(xmin,xmax+dx,dx)\n",
    "Y = np.arange(ymin,ymax+dy,dy)\n",
    "gridx,gridy = np.meshgrid(X, Y)\n",
    "# convert polar stereographic points to latitude/longitude (WGS84)\n",
    "gridlon,gridlat = transformer.transform(gridx, gridy,\n",
    "    direction=pyproj.enums.TransformDirection.INVERSE)\n",
    "# calculate and plot grid area\n",
    "cf = crs3031.to_cf()\n",
    "flat = 1.0/cf['inverse_flattening']\n",
    "sp = cf['standard_parallel']\n",
    "gridarea = scale_factors(gridlat, flat=flat, reference_latitude=sp)\n",
    "im = ax3.imshow(gridarea,\n",
    "    extent=(xmin,xmax,ymin,ymax), \n",
    "    interpolation='nearest',\n",
    "    cmap=plt.get_cmap('plasma'),\n",
    "    origin='lower')\n",
    "# add circle around standard parallel\n",
    "ref_lon = np.arange(360)\n",
    "ref_lat = np.ones((360))*sp\n",
    "# convert latitude/longitude (WGS84) points to polar stereographic\n",
    "ref_x,ref_y = transformer.transform(ref_lon, ref_lat,\n",
    "    direction=pyproj.enums.TransformDirection.FORWARD)\n",
    "l, = ax3.plot(ref_x, ref_y, '--', color='w', dashes=(8,4), label='Standard Parallel')\n",
    "# add coastlines\n",
    "world_antarctic.plot(ax=ax3, color='none', edgecolor='black')\n",
    "# set x and y limits\n",
    "ax3.set_xlim(xmin,xmax)\n",
    "ax3.set_ylim(ymin,ymax)\n",
    "ax3.set_aspect('equal', adjustable='box')\n",
    "# add x and y labels\n",
    "x_info,y_info = crs3031.axis_info\n",
    "ax3.set_xlabel('{0} [{1}]'.format(x_info.name,x_info.unit_name))\n",
    "ax3.set_ylabel('{0} [{1}]'.format(y_info.name,y_info.unit_name))\n",
    "# add colorbar\n",
    "cbar = plt.colorbar(im, cax=fig.add_axes([0.92, 0.08, 0.025, 0.90]))\n",
    "cbar.ax.set_ylabel('Normalized Grid Area')\n",
    "cbar.solids.set_rasterized(True)\n",
    "# add legend\n",
    "lgd = ax3.legend(loc=4,frameon=False)\n",
    "lgd.get_frame().set_alpha(1.0)\n",
    "for line in lgd.get_lines():\n",
    "    line.set_linewidth(6)\n",
    "for i,text in enumerate(lgd.get_texts()):\n",
    "    text.set_color(l.get_color())\n",
    "fig.subplots_adjust(left=0.06,right=0.9,bottom=0.08,top=0.98)"
   ]
  },
  {
   "cell_type": "markdown",
   "id": "41b51ddf-63c8-4ba1-bc97-45eeca6809cb",
   "metadata": {},
   "source": [
    "Why is there a black line to the pole?  Because this coastline was reprojected from a Equirectangular projection.  That's the bottom of the Equirectangular map."
   ]
  },
  {
   "cell_type": "markdown",
   "id": "c6292ee5-32ad-47d1-8d39-66b54b656cd3",
   "metadata": {},
   "source": [
    "### Reproject other data\n",
    "\n",
    "Often you have other data or contextual information that you need to get into your data's CRS to visualize.\n",
    "\n",
    "For example, McMurdo Research Station is at (-77.846° S, 166.676° E). How to we plot this without using `geopandas`? \n",
    "\n",
    "**`pyproj` transform** objects can be used to change the Coordinate Reference System of arrays\n",
    "\n",
    "```{important}\n",
    "Note that most Python libraries do NOT check to make sure your data shares the same CRS. Plotting libraries are not \"CRS aware\" and will happily plot things in incorrect positions. It is up to you to make sure your positions are accurate.\n",
    "```\n",
    "\n",
    "This will transform our latitude and longitude coordinates into coordinates in _meters_ from the map origin"
   ]
  },
  {
   "cell_type": "code",
   "execution_count": null,
   "id": "923e324b-b390-47bc-9b5d-3ac6712a5ee0",
   "metadata": {},
   "outputs": [],
   "source": [
    "# convert location of McMurdo station to polar stereographic\n",
    "McMurdo = (166.676, -77.846)\n",
    "McMurdo_3031 = transformer.transform(*McMurdo)\n",
    "\n",
    "fig, ax = plt.subplots()\n",
    "world_antarctic.plot(ax=ax, color='0.8', edgecolor='none')\n",
    "ax.plot(McMurdo_3031[0], McMurdo_3031[1], 'ro')\n",
    "# set x and y limits\n",
    "xmin,xmax,ymin,ymax = (-3100000,3100000,-2600000,2600000)\n",
    "ax.set_xlim(xmin,xmax)\n",
    "ax.set_ylim(ymin,ymax)\n",
    "ax.set_aspect('equal', adjustable='box')\n",
    "ax.set_title(f'McMurdo Station {McMurdo}');"
   ]
  },
  {
   "cell_type": "markdown",
   "id": "ec0f6c46-fe0c-4b98-a04c-2ad24111f1cd",
   "metadata": {},
   "source": [
    "## Reference Systems and Datums\n",
    "\n",
    "Coordinates are defined to be in _reference_ to the origins of the coordinate system\n",
    "- Horizontally, coordinates are in reference to the Equator and the Prime Meridian\n",
    "- Vertically, heights are in reference to a [_datum_](https://vdatum.noaa.gov/docs/datums.html)\n",
    "\n",
    "Two common vertical datums are the reference _ellipsoid_ and the reference _geoid_.\n",
    "\n",
    "**What are they and what is the difference?**\n",
    "- To ﬁrst approximation, the Earth is a sphere (🐄) with a radius of 6371 kilometers.\n",
    "- To a better approximation, the Earth is a slightly flattened ellipsoid with the polar axis 22 kilometers shorter than the equatorial axis.\n",
    "- To an even better approximation, the Earth's shape can be described using a reference _geoid_, which undulates 10s of meters above and below the reference ellipsoid. The difference in height between the ellipsoid and the geoid are known as _geoid heights_.\n",
    "\n",
    "The **geoid** is an _equipotential surface_, perpendicular to the force of gravity at all points and with a constant geopotential. Reference ellipsoids and geoids are both created to largely coincide with mean sea level if the oceans were at rest.\n",
    "\n",
    "An **ellipsoid** can be considered a _simplification of a geoid_.\n",
    "\n",
    "```{image} https://github.com/tsutterley/icesat-2-geophysical-transforms/blob/main/egm2008.png?raw=true\n",
    ":alt: Derived from the International Centre for Global Earth Models (ICGEM)\n",
    ":width: 50%\n",
    ":align: center\n",
    "```\n",
    "\n",
    "[`PROJ` hosts grids for shifting both the horizontal and vertical datum](https://cdn.proj.org/), such as gridded [EGM2008 geoid height values](https://cdn.proj.org/us_nga_egm08_25.tif)\n",
    "\n",
    "```{tip}\n",
    "If you work with vertical datum offset grids regularly or offline: use the `projsync` command\n",
    "`projsync --all --quiet`\n",
    "```"
   ]
  },
  {
   "cell_type": "markdown",
   "id": "4c6b2509-d4a6-428b-bc05-cb315b98a7d3",
   "metadata": {},
   "source": [
    "Additional geoid height values can be calculated at the [International Centre for Global Earth Models (ICGEM)](http://icgem.gfz-potsdam.de/home)\n",
    "\n",
    "![geoid](https://github.com/tsutterley/icesat-2-geophysical-transforms/blob/main/geoid.gif?raw=true)\n",
    "\n",
    "Vertically exaggerated, the Earth is sort of like a potato 🥔"
   ]
  },
  {
   "cell_type": "markdown",
   "id": "064a1b01-bfa8-421b-babf-a19f505b111d",
   "metadata": {},
   "source": [
    "Why Does This Matter?\n",
    "---------------------\n",
    "\n",
    "ICESat-2 elevations are in reference to a specific version of the WGS84 ellipsoid. There are different \"realizations\" of the WGS84 ellipsoid. The accuracy of your positioning improves when the specific realization, rather than the ensemble, is used!\n",
    "\n",
    "```{tip}\n",
    "Recall above we saw `EPSG:4326` used \"Datum: World Geodetic System 1984 ensemble\", which is common for older or low-accuracy datasets. [Read more here](https://confluence.qps.nl/qinsy/latest/en/world-geodetic-system-1984-wgs84-182618391.html#id-.WorldGeodeticSystem1984(WGS84)v9.1-WGS84realizations)\n",
    "```\n",
    "\n",
    "ICESat-2 data products also include geoid heights from the [EGM2008 geoid](https://www.usna.edu/Users/oceano/pguth/md_help/html/egm96.htm).  Different ground-based, airborne or satellite-derived elevations may use a separate datum entirely.\n",
    "\n",
    "```{important}\n",
    "Elevations have to be in the _same reference frame_ when comparing heights.\n",
    "```\n",
    "\n",
    "Different datums have different purposes.  Heights above mean sea level are needed for ocean and sea ice heights, and are also commonly used for terrestrial mapping (e.g. as elevations of mountains).  Ellipsoidal heights are commonly used for estimating land ice height change.\n",
    "\n",
    "```{figure} https://github.com/tsutterley/icesat-2-geophysical-transforms/blob/main/geodetic-surfaces.png?raw=true\n",
    ":alt: Geodetic Surfaces\n",
    ":width: 50%\n",
    ":align: center\n",
    "\n",
    "Modified from: Tapley, B. D. & M-C. Kim, Applications to Geodesy, Chapt. 10 in Satellite Altimetry and Earth Sciences, ed. by L-L. Fu & A. Cazenave, Academic Press, pp. 371-406, 2001.\n",
    "```\n",
    "\n",
    "```{tip}\n",
    "Another piece to consider is the _permanent tide system_. ICESat-2 is _tide-free_ but a lot of datasets are _mean tide_. Checkout the [ICESat-2 Data Comparison User's Guide](https://doi.org/10.5281/zenodo.16389970) produced by the ICESat-2 Project Science Office (PSO) for more info.\n",
    "```"
   ]
  },
  {
   "cell_type": "markdown",
   "id": "c405344a-b15d-4c3d-bf0c-ae3269816095",
   "metadata": {},
   "source": [
    "### Terrestrial Reference System\n",
    "\n",
    "Locations of satellites are determined in an Earth-centered cartesian coordinate system\n",
    "- **X**, **Y**, and **Z** measurements from the Earth's center of mass\n",
    "\n",
    "Up to Release-06, ICESat-2 has been set in the [2014 realization of the International Terrestrial Reference Frame (ITRF)](https://itrf.ign.fr/en/solutions/ITRF2014). For Release-07 onward, ICESat-2 will be set in the [2020 realization](https://itrf.ign.fr/en/solutions/ITRF2020). Other satellite and airborne altimetry missions may be in a different ITRF entirely.\n",
    "\n",
    "As opposed to simple vertical offsets, changing the terrestial reference system can involve both [translation and rotation of the reference system](https://itrf.ign.fr/doc_ITRF/Transfo-ITRF2014_ITRFs.txt).  This involves converting from a geographic coordinate system into a Cartesian coordinate system.\n",
    "\n",
    "Let's visualize what the Cartesian coordinate system looks like:"
   ]
  },
  {
   "cell_type": "code",
   "execution_count": null,
   "id": "cf341b0c-eca3-4551-9c83-525adb6f650b",
   "metadata": {},
   "outputs": [],
   "source": [
    "def to_cartesian(lon,lat,h=0.0,a_axis=6378137.0,flat=1.0/298.257223563):\n",
    "    \"\"\"\n",
    "    Converts geodetic coordinates to Cartesian coordinates\n",
    "\n",
    "    Inputs:\n",
    "        lon: longitude (degrees east)\n",
    "        lat: latitude (degrees north)\n",
    "\n",
    "    Options:\n",
    "        h: height above ellipsoid (or sphere)\n",
    "        a_axis: semimajor axis of the ellipsoid (default: WGS84)\n",
    "            * for spherical coordinates set to radius of the Earth\n",
    "        flat: ellipsoidal flattening (default: WGS84)\n",
    "            * for spherical coordinates set to 0\n",
    "    \"\"\"\n",
    "    # verify axes\n",
    "    lon = np.atleast_1d(lon)\n",
    "    lat = np.atleast_1d(lat)\n",
    "    # fix coordinates to be 0:360\n",
    "    lon[lon < 0] += 360.0\n",
    "    # Linear eccentricity and first numerical eccentricity\n",
    "    lin_ecc = np.sqrt((2.0*flat - flat**2)*a_axis**2)\n",
    "    ecc1 = lin_ecc/a_axis\n",
    "    # convert from geodetic latitude to geocentric latitude\n",
    "    dtr = np.pi/180.0\n",
    "    # geodetic latitude in radians\n",
    "    latitude_geodetic_rad = lat*dtr\n",
    "    # prime vertical radius of curvature\n",
    "    N = a_axis/np.sqrt(1.0 - ecc1**2.0*np.sin(latitude_geodetic_rad)**2.0)\n",
    "    # calculate X, Y and Z from geodetic latitude and longitude\n",
    "    X = (N + h) * np.cos(latitude_geodetic_rad) * np.cos(lon*dtr)\n",
    "    Y = (N + h) * np.cos(latitude_geodetic_rad) * np.sin(lon*dtr)\n",
    "    Z = (N * (1.0 - ecc1**2.0) + h) * np.sin(latitude_geodetic_rad)\n",
    "    # return the cartesian coordinates\n",
    "    return (X,Y,Z)"
   ]
  },
  {
   "cell_type": "code",
   "execution_count": null,
   "id": "585c744f-aad6-47b4-931a-27ba564427b9",
   "metadata": {},
   "outputs": [],
   "source": [
    "fig,ax2 = plt.subplots(num=2, subplot_kw=dict(projection='3d'))\n",
    "minlon,maxlon,minlat,maxlat = (-180,180,-90,90)\n",
    "dlon,dlat = (10.0,10.0)\n",
    "longitude = np.arange(minlon,maxlon+dlon,dlon)\n",
    "latitude = np.arange(minlat,maxlat+dlat,dlat)\n",
    "gridlon,gridlat = np.meshgrid(longitude, latitude)\n",
    "height = np.zeros_like(gridlon)\n",
    "X,Y,Z = to_cartesian(gridlon, gridlat, h=height)\n",
    "ax2.scatter3D(X, Y, Z, c=gridlat)\n",
    "plt.show()"
   ]
  },
  {
   "cell_type": "markdown",
   "id": "8b917e29-4c57-4d24-b94d-a7db1e43cd92",
   "metadata": {},
   "source": [
    "Yep, that looks like an ellipsoid"
   ]
  },
  {
   "cell_type": "markdown",
   "id": "e9e8fb1e-fcf3-4fb6-8ff7-dce74ffe1196",
   "metadata": {},
   "source": [
    "## `pyproj` CRS Tricks\n",
    "\n",
    "`pyproj` CRS objects can:\n",
    "\n",
    "- Be converted to different methods of describing the CRS, such a to a `PROJ` string or WKT"
   ]
  },
  {
   "cell_type": "code",
   "execution_count": null,
   "id": "54129519-2afc-4b31-bb74-6689a25f6037",
   "metadata": {},
   "outputs": [],
   "source": [
    "proj3031 = crs3031.to_proj4()\n",
    "wkt3031 = crs3031.to_wkt()\n",
    "assert(crs3031.is_exact_same(pyproj.CRS.from_wkt(wkt3031)))\n",
    "print(proj3031)"
   ]
  },
  {
   "cell_type": "markdown",
   "id": "9e23bf96-81f3-4d3c-9008-7475b3ab6203",
   "metadata": {},
   "source": [
    "- Provide information about each coordinate reference system, such as the name, area of use and axes units."
   ]
  },
  {
   "cell_type": "code",
   "execution_count": null,
   "id": "882f6ee3-3742-4391-9aef-371d60f00cbb",
   "metadata": {},
   "outputs": [],
   "source": [
    "for EPSG in (3031,3413,5936,6931,6932):\n",
    "  crs = pyproj.CRS.from_epsg(EPSG)\n",
    "  x_info,y_info = crs.axis_info\n",
    "  print(f'{crs.name} ({EPSG})')\n",
    "  print(f'\\tRegion: {crs.area_of_use.name}')\n",
    "  print(f'\\tScope: {crs.scope}')\n",
    "  print(f'\\tAxes: {x_info.name} ({x_info.unit_name}), {y_info.name} ({y_info.unit_name})')"
   ]
  },
  {
   "cell_type": "markdown",
   "id": "7c2a0ad7-e29a-4a19-8f21-fe552759cba2",
   "metadata": {},
   "source": [
    "- Get coordinate reference system metadata for including in files"
   ]
  },
  {
   "cell_type": "code",
   "execution_count": null,
   "id": "8b3f3ef1-03bd-476b-8de8-408ded47d736",
   "metadata": {},
   "outputs": [],
   "source": [
    "print('Climate and Forecast (CF) conventions')\n",
    "cf = pyproj.CRS.from_epsg(5936).to_cf()\n",
    "for key,val in cf.items():\n",
    "    print(f'\\t{key}: {val}')"
   ]
  },
  {
   "cell_type": "markdown",
   "id": "c924cd60-a157-4888-9d57-7e8378239efa",
   "metadata": {},
   "source": [
    "You can also manually create a _pipeline_ to do coordinate reference systems conversions. These are like recipes for converting coordinate reference systems.\n",
    "\n",
    "Remember converting latitude and longitude into cartesian coordinates? We can do that with a pipeline!"
   ]
  },
  {
   "cell_type": "code",
   "execution_count": null,
   "id": "cade8716-6466-4e7e-ad50-77d5bfa8c64a",
   "metadata": {},
   "outputs": [],
   "source": [
    "fig,ax2 = plt.subplots(num=2, subplot_kw=dict(projection='3d'))\n",
    "minlon,maxlon,minlat,maxlat = (-180,180,-90,90)\n",
    "dlon,dlat = (10.0,10.0)\n",
    "longitude = np.arange(minlon,maxlon+dlon,dlon)\n",
    "latitude = np.arange(minlat,maxlat+dlat,dlat)\n",
    "gridlon,gridlat = np.meshgrid(longitude, latitude)\n",
    "height = np.zeros_like(gridlon)\n",
    "pipeline = \"\"\"+proj=pipeline\n",
    "    +step +proj=unitconvert +xy_in=deg +z_in=m +xy_out=rad +z_out=m\n",
    "    +step +proj=cart +ellps=WGS84\"\"\"\n",
    "transform = pyproj.Transformer.from_pipeline(pipeline)\n",
    "X,Y,Z = transform.transform(gridlon,gridlat,height)\n",
    "ax2.scatter3D(X,Y,Z, c=gridlat)\n",
    "plt.show()"
   ]
  },
  {
   "cell_type": "markdown",
   "id": "6f002f29-e039-440d-9574-6c6b73e30d11",
   "metadata": {},
   "source": [
    "`projinfo` can list possible pipelines for converting between coordinate reference systems\n",
    "\n",
    "Here is the pipeline `PROJ` chose to convert from latitude and longitude into polar stereographic"
   ]
  },
  {
   "cell_type": "code",
   "execution_count": null,
   "id": "a98a21cc-d8f3-4564-b3a9-dfe8e9e044f5",
   "metadata": {},
   "outputs": [],
   "source": [
    "!projinfo -s EPSG:4326 -t EPSG:3031 -o PROJ --hide-ballpark --spatial-test intersects"
   ]
  },
  {
   "cell_type": "markdown",
   "id": "8de5eba7-e9e5-4725-989c-723d749db850",
   "metadata": {},
   "source": [
    "## Geospatial Data\n",
    "\n",
    "What is Geospatial Data?  Data that has location information associated with it.\n",
    "\n",
    "Geospatial data comes in two flavors: _vector_ and _raster_\n",
    "- Vector data is composed of points, lines, and polygons\n",
    "- Raster data is composed of individual grid cells\n",
    "\n",
    "```{figure} https://github.com/tsutterley/icesat-2-geophysical-transforms/blob/main/vectorraster.png?raw=true\n",
    ":alt: Vector vs. Raster\n",
    ":target: https://docs.planet.com/\n",
    "_Vector vs. Raster from [Planet](https://docs.planet.com/)_\n",
    "```\n",
    "\n",
    "```{admonition}\n",
    "**Q: When would we use vector over raster?**\n",
    "\n",
    "**Q: When would we use raster over vector?**\n",
    "```"
   ]
  },
  {
   "cell_type": "markdown",
   "id": "75cc6707-11d4-405c-8f06-47a3ae989d12",
   "metadata": {},
   "source": [
    "Vector data will provide geometric information for every point or vertex in the geometry.\n",
    "\n",
    "Raster data will provide geometric information for a particular corner, which can be combined with the grid cell sizes and grid dimensions to get the grid cell coordinates.\n",
    "\n",
    "Common vector file formats:\n",
    "- `GeoJSON`\n",
    "- `shapefile`\n",
    "- `GeoPackage`\n",
    "- ESRI `geodatabase`\n",
    "- `kml`/`kmz`\n",
    "- `geoparquet`\n",
    "\n",
    "Common raster file formats:\n",
    "- `GeoTIFF`/`cog`\n",
    "- `jpeg`\n",
    "- `png`\n",
    "\n",
    "File formats used for both:\n",
    "- `netCDF4`\n",
    "- `HDF5`\n",
    "- `zarr`\n",
    "\n",
    "All geospatial data (raster and vector) should have metadata for extracting the coordinate reference system of the data.  Some of this metadata is not included with the files but can be found in the documentation.\n",
    "\n",
    "```{admonition}\n",
    "**Q: Are you more familiar with using vector or raster data?**\n",
    "\n",
    "**Q: Do you more often use GIS software or command-line tools?**\n",
    "```\n",
    "\n",
    "There are different tools for working with raster and vector data.  Some are more advantageous for one data type over the other.\n",
    "\n",
    "Let's find the coordinate reference system of some data products using some common geospatial tools."
   ]
  },
  {
   "cell_type": "markdown",
   "id": "3c44bdd2-8dea-4520-a2ab-6e43ceec71ff",
   "metadata": {},
   "source": [
    "### Geospatial Data Abstraction Library\n",
    "\n",
    "The [Geospatial Data Abstraction Library (GDAL/OGR)](https://gdal.org/) is a powerful piece of software. \n",
    "\n",
    "It can read, write and query a wide variety of raster and vector geospatial data formats, transform the coordinate system of images, and manipulate other forms of geospatial data.\n",
    "\n",
    "It is the backbone of a _large_ suite of geospatial libraries and programs.\n",
    "\n",
    "There are a number of wrapper libraries (e.g. [`rasterio`](https://rasterio.readthedocs.io/), [`rioxarray`](https://corteva.github.io/rioxarray), [`shapely`](https://shapely.readthedocs.io/), [`fiona`](https://fiona.readthedocs.io/)) that provide more user-friendly interfaces with `GDAL` functionality.\n",
    "\n",
    "Similar to `pyproj` CRS objects, `GDAL` `SpatialReference` functions can provide a lot of information about a particular Coordinate Reference System\n",
    "\n",
    "With `GDAL`, we can access _raster_ and _vector_ data that are available over network-based file systems and virtual file systems\n",
    "\n",
    "- `/vsicurl/`: http/https/ftp files\n",
    "- `/vsis3/`: AWS S3 files\n",
    "- `/vsigs/`: Google Cloud Storage files\n",
    "- `/vsizip/`: zip archives\n",
    "- `/vsitar/`: tar/tgz archives\n",
    "- `/vsigzip/`: gzipped files\n",
    "\n",
    "These can be chained together to access compressed files over networks"
   ]
  },
  {
   "cell_type": "markdown",
   "id": "7b546b46-7b71-4d2b-a5d5-b0d86aef6a77",
   "metadata": {},
   "source": [
    "### Vector Data\n",
    "\n",
    "We can use `GDAL` virtual file systems to access the intermediate resolution shapefile of the [Global Self-consistent, Hierarchical, High-resolution Geography Database](https://www.soest.hawaii.edu/pwessel/gshhg/) from its https server.\n",
    "\n",
    "`ogrinfo` is a GDAL/OGR tool for inspecting vector data.  We'll get a summary (`-so`) of all data (`-al`) in read-only mode (`-ro`)."
   ]
  },
  {
   "cell_type": "code",
   "execution_count": null,
   "id": "87ac2f4e-6fca-4856-8550-a4be138c5c12",
   "metadata": {},
   "outputs": [],
   "source": [
    "!ogrinfo -so -al -ro /vsizip//vsicurl/http://www.soest.hawaii.edu/pwessel/gshhg/gshhg-shp-2.3.7.zip/GSHHS_shp/i/GSHHS_i_L1.shp"
   ]
  },
  {
   "cell_type": "markdown",
   "id": "d2258732-9a62-4ad5-96d8-45afed7a4846",
   "metadata": {},
   "source": [
    "### Reading Vector Data"
   ]
  },
  {
   "cell_type": "code",
   "execution_count": null,
   "id": "eee1f99d-f8b0-4de1-bb85-291e030c8fb5",
   "metadata": {},
   "outputs": [],
   "source": [
    "gshhg_i = gpd.read_file('/vsizip//vsicurl/http://www.soest.hawaii.edu/pwessel/gshhg/gshhg-shp-2.3.7.zip/GSHHS_shp/i/GSHHS_i_L1.shp')\n",
    "print(gshhg_i.crs)"
   ]
  },
  {
   "cell_type": "markdown",
   "id": "af5d471d-6e02-42ea-8765-ea56b9ee8141",
   "metadata": {},
   "source": [
    "Let's use these coastlines to make a plot of Greenland in a [Polar Stereographic projection (`EPSG:3413`)](https://epsg.io/3413)"
   ]
  },
  {
   "cell_type": "code",
   "execution_count": null,
   "id": "2af3280f-376b-40fa-8dfa-0591a5e4fc15",
   "metadata": {},
   "outputs": [],
   "source": [
    "fig,ax4 = plt.subplots(num=4, figsize=(9,9))\n",
    "crs3413 = pyproj.CRS.from_epsg(3413)\n",
    "xmin,xmax,ymin,ymax = (-1530000, 1610000,-3600000, -280000)\n",
    "# add coastlines\n",
    "gshhg_i.to_crs(crs3413).plot(ax=ax4, color='0.8', edgecolor='none')\n",
    "# set x and y limits\n",
    "ax4.set_xlim(xmin,xmax)\n",
    "ax4.set_ylim(ymin,ymax)\n",
    "ax4.set_aspect('equal', adjustable='box')\n",
    "# add x and y labels\n",
    "x_info,y_info = crs3413.axis_info\n",
    "ax4.set_xlabel('{0} [{1}]'.format(x_info.name,x_info.unit_name))\n",
    "ax4.set_ylabel('{0} [{1}]'.format(y_info.name,y_info.unit_name))\n",
    "# adjust subplot and show\n",
    "fig.subplots_adjust(left=0.06,right=0.98,bottom=0.08,top=0.98)"
   ]
  },
  {
   "cell_type": "markdown",
   "id": "0802bd9a-6b07-408c-8661-2c4f2f50c08b",
   "metadata": {},
   "source": [
    "Even with intermediate resolution, we can add much better coastlines than the ones that ship with `geodatasets`!\n",
    "\n",
    "All coastline resolutions available:\n",
    "- `c`: coarse\n",
    "- `l`: low\n",
    "- `i`: intermediate\n",
    "- `h`: high\n",
    "- `f`: full"
   ]
  },
  {
   "cell_type": "markdown",
   "id": "42497a2d-3df5-43ed-8107-0d67833f669b",
   "metadata": {},
   "source": [
    "### Raster Data\n",
    "\n",
    "The same virtual file system commands can be used with raster images.\n",
    "\n",
    "Let's inspect some elevation data from the COP3 DEM.\n",
    "\n",
    "`gdalinfo` allows us to inspect the format, size, geolocation and Coordinate Reference System of raster imagery.  Appending the `-proj4` option will additionally output the PROJ string associated with this geotiff image."
   ]
  },
  {
   "cell_type": "code",
   "execution_count": null,
   "id": "d36feb75-161c-4d85-a710-c010121716d2",
   "metadata": {},
   "outputs": [],
   "source": [
    "! gdalinfo -proj4 \"https://opentopography.s3.sdsc.edu/raster/COP30/COP30_hh/Copernicus_DSM_10_N47_00_W123_00_DEM.tif\""
   ]
  },
  {
   "cell_type": "markdown",
   "id": "756a8e8e-5976-40ce-94bb-763d651e0cfe",
   "metadata": {},
   "source": [
    "### Reading Raster Data\n",
    "\n",
    "We can read geotiff files using `rasterio`, which is a wrapper of `GDAL` for reading raster data"
   ]
  },
  {
   "cell_type": "code",
   "execution_count": null,
   "id": "0f409a94-cc47-42ad-97ac-a746d2cf1989",
   "metadata": {},
   "outputs": [],
   "source": [
    "url = \"https://opentopography.s3.sdsc.edu/raster/COP30/COP30_hh/Copernicus_DSM_10_N47_00_W123_00_DEM.tif\"\n",
    "ds = rioxarray.open_rasterio(url, masked=True).isel(band=0)\n",
    "ds"
   ]
  },
  {
   "cell_type": "code",
   "execution_count": null,
   "id": "625c6561-ab43-4e9c-8458-aaff43015ae4",
   "metadata": {},
   "outputs": [],
   "source": [
    "# plot location of DEM\n",
    "fig,ax1 = plt.subplots(num=1, figsize=(10.375,5.0))\n",
    "minlon,maxlon,minlat,maxlat = (-180,180,-90,90)\n",
    "# add geometry of image\n",
    "xmin, ymin, xmax, ymax = ds.rio.transform_bounds('EPSG:4326')\n",
    "box = gpd.GeoSeries(shapely.geometry.box(xmin, ymin, xmax, ymax))\n",
    "box.plot(ax=ax1,facecolor='red',edgecolor='red',alpha=0.5)\n",
    "# add annotation\n",
    "ax1.annotate(\"Here!\", xy=(xmin,ymin), xytext=(xmin-15.0, ymin-15.0),\n",
    "    arrowprops=dict(arrowstyle=\"->\",connectionstyle=\"arc3,rad=0.3\",color='red'),\n",
    "    bbox=dict(boxstyle=\"square\", fc=\"w\", ec=\"w\", pad=0.1),\n",
    "    color='red', weight='bold', xycoords='data', ha='center')\n",
    "# add GSHHG coastlines\n",
    "gshhg_i.plot(ax=ax1, color='none', edgecolor='black')\n",
    "# set x and y limits\n",
    "ax1.set_xlim(minlon,maxlon)\n",
    "ax1.set_ylim(minlat,maxlat)\n",
    "ax1.set_aspect('equal', adjustable='box')\n",
    "# add x and y labels\n",
    "ax1.set_xlabel('Longitude')\n",
    "ax1.set_ylabel('Latitude')\n",
    "# adjust subplot and show\n",
    "fig.subplots_adjust(left=0.06,right=0.98,bottom=0.08,top=0.98)"
   ]
  },
  {
   "cell_type": "markdown",
   "id": "0850c4fe-088d-41f5-bf98-73f662cda61b",
   "metadata": {},
   "source": [
    "Okay! It covers Seattle and the University of Washington.\n",
    "\n",
    "Let's see what the DEM looks like for this granule"
   ]
  },
  {
   "cell_type": "code",
   "execution_count": null,
   "id": "8ed4bcc9-7816-49dc-a20d-985ff6615f98",
   "metadata": {},
   "outputs": [],
   "source": [
    "# create figure axis\n",
    "fig, ax = plt.subplots(num=5)\n",
    "im = ds.plot.imshow(ax=ax, interpolation='nearest',\n",
    "    vmin=ds.values.min(), vmax=ds.values.max(),\n",
    "    cmap=plt.cm.gray_r)\n",
    "x,y = (-122.3117, 47.6533)\n",
    "ax.plot(x, y, 'r*')\n",
    "# add annotation\n",
    "ax.annotate(\"UW eScience!\", xy=(x,y-0.005), xytext=(x-0.1, y-0.1),\n",
    "    arrowprops=dict(arrowstyle=\"->\",connectionstyle=\"arc3,rad=0.3\",color='red'),\n",
    "    color='red', weight='bold', xycoords='data', ha='center')\n",
    "# turn of frame and ticks\n",
    "ax.set_frame_on(False)\n",
    "ax.set_xticks([])\n",
    "ax.set_yticks([])\n",
    "plt.axis('off')\n",
    "# adjust subplot within figure\n",
    "fig.subplots_adjust(left=0, bottom=0, right=1, top=1, wspace=None, hspace=None)"
   ]
  },
  {
   "cell_type": "markdown",
   "id": "3198e797-41ef-454d-9d3e-45d9be2768ae",
   "metadata": {},
   "source": [
    "### Warping Raster Imagery\n",
    "\n",
    "_Warping_ transfers a raster image from one Coordinate Reference System (CRS) into another.\n",
    "\n",
    "We can use [`GDAL` to reproject the imagery data](https://gdal.org/programs/gdalwarp.html) into another CRS or change the pixel resolution of the raster image.\n",
    "\n",
    "Ground control points (GCPs) can also be applied to georeference raw maps or imagery.\n",
    "\n",
    "```{figure} https://github.com/tsutterley/icesat-2-geophysical-transforms/blob/main/auspr18_Georefer_2.gif?raw=true\n",
    ":alt: ESRI warp\n",
    ":target: https://www.esri.com/about/newsroom/wp-content/uploads/2018/07/auspr18_Georefer_2.gif\n",
    "\n",
    "_Raster Georeferencing from [ESRI](https://www.esri.com/about/newsroom/arcuser/understanding-raster-georeferencing/)_\n",
    "```"
   ]
  },
  {
   "cell_type": "markdown",
   "id": "fb76206a-ef14-47dc-b726-b1881c4b4410",
   "metadata": {},
   "source": [
    "#### Rasterio Transforms\n",
    "\n",
    "For every `rasterio` object, there is an associated _affine transform_ (`ds.transform`), which allows you to [transfer from image coordinates to geospatial coordinates](https://rasterio.readthedocs.io/en/latest/quickstart.html#dataset-georeferencing).\n",
    "\n",
    "$\n",
    "x = A*row + B*col + C\\\\\n",
    "y = D*row + E*col + F\n",
    "$\n",
    "\n",
    "_Affine Transformation_: maps between pixel locations in `(row, col)` coordinates to `(x, y)` spatial positions:\n",
    "\n",
    "`x,y = ds.transform*(row,col)`\n",
    "\n",
    "Upper left coordinate:\n",
    "- `row = 0`\n",
    "- `col = 0`\n",
    "\n",
    "Lower right coordinate:\n",
    "- `row = ds.width`\n",
    "- `col = ds.height`\n",
    "\n",
    "```{figure} https://github.com/tsutterley/icesat-2-geophysical-transforms/blob/main/aufall18_Georefer_1.gif?raw=true\n",
    ":alt: ESRI affine\n",
    ":target: https://www.esri.com/about/newsroom/wp-content/uploads/2018/07/aufall18_Georefer_1.gif\n",
    "\n",
    "_Raster Georeferencing from [ESRI](https://www.esri.com/about/newsroom/arcuser/understanding-raster-georeferencing/)_\n",
    "```\n",
    "\n",
    "`rioxarray` does these affine transformations under the hood when reprojecting images. We can use these tools to warp our raster image into a lower resolution."
   ]
  },
  {
   "cell_type": "code",
   "execution_count": null,
   "id": "be32b2b7-38ce-46c1-9569-4598c35576d9",
   "metadata": {},
   "outputs": [],
   "source": [
    "# degrade resolution from 1 arcsecond to 8 arcseconds\n",
    "dst_res = 8.0/3600.0\n",
    "warped = ds.rio.reproject(crs4326, resolution=(dst_res,dst_res))\n",
    "\n",
    "# plot warped DEM\n",
    "fig,ax1 = plt.subplots(num=1, figsize=(10.375,5.0))\n",
    "# add geometry of image\n",
    "im = warped.plot.imshow(ax=ax1, interpolation='nearest',\n",
    "    vmin=ds.values.min(), vmax=ds.values.max(),\n",
    "    cmap=plt.cm.gray_r)\n",
    "# add coastlines\n",
    "gshhg_i.plot(ax=ax1, color='none', edgecolor='black')\n",
    "# set x and y limits\n",
    "ax1.set_xlim(warped.x.min(), warped.x.max())\n",
    "ax1.set_ylim(warped.y.min(), warped.y.max())\n",
    "ax1.set_aspect('equal', adjustable='box')\n",
    "# add x and y labels\n",
    "ax1.set_xlabel('Longitude')\n",
    "ax1.set_ylabel('Latitude')\n",
    "# adjust subplot and show\n",
    "fig.subplots_adjust(left=0.06,right=0.98,bottom=0.08,top=0.98)"
   ]
  },
  {
   "cell_type": "markdown",
   "id": "898d68af-7efd-4ea5-88db-36bef22dff28",
   "metadata": {},
   "source": [
    "```{tip}\n",
    "We might have wanted to use the full resolution coastlines!\n",
    "```"
   ]
  },
  {
   "cell_type": "markdown",
   "id": "76d47b7a-738b-46b5-accc-cf1caa6d2bb9",
   "metadata": {},
   "source": [
    "#### Saving Raster Data with `rioxarray`"
   ]
  },
  {
   "cell_type": "code",
   "execution_count": null,
   "id": "fe6bc6e7-82f6-4bc1-83f9-28c1daec4ea9",
   "metadata": {},
   "outputs": [],
   "source": [
    "# write an array as a raster band\n",
    "# copernicus DEM naming convention for spacing:\n",
    "# 03: 0.3-arcsecond grid, 04: 0.4-arcsecond grid, 10: 1-arcsecond grid, 30: 3-arcsecond grid\n",
    "warped.rio.to_raster('Copernicus_DSM_80_N47_00_W123_00_DEM.tif', driver='cog')"
   ]
  },
  {
   "cell_type": "markdown",
   "id": "dde80367-d602-4ecd-bcf1-23a29c3d4f56",
   "metadata": {},
   "source": [
    "## Applying Concepts: ICESat-2\n",
    "\n",
    "Let's take what we just learned and apply it to ICESat-2\n",
    "\n",
    "We'll download a granule of ICESat-2 ATL06 land ice heights from the [National Snow and Ice Data Center (NSIDC)](https://nsidc.org/data/atl06).  ATL06 is _along-track_ data stored in an HDF5 file with geospatial coordinates latitude and longtude (WGS84).  Within an ATL06 file, there are six beam groups (`gt1l`, `gt1r`, `gt2l`, `gt2r`, `gt3l`, `gt3r`) that correspond to the orientation of the beams on the ground."
   ]
  },
  {
   "cell_type": "code",
   "execution_count": null,
   "id": "5d25c1e2-679c-48cf-b448-af863cf288d8",
   "metadata": {},
   "outputs": [],
   "source": [
    "def build_granule_name(short_name, track, cycle, hemisphere=None, granule=None):\n",
    "    # repeat ground track (RGT)\n",
    "    tttt = str(track).zfill(4)\n",
    "    # orbital cycle\n",
    "    cc = str(cycle).zfill(2)\n",
    "    # ice hemisphere flag (01=north, 02=south) \n",
    "    hh = str(hemisphere).zfill(2) if hemisphere is not None else \"??\"\n",
    "    # granule number (ranges from 1-14, always 01 for atmosphere products)\n",
    "    nn = str(granule).zfill(2) if granule is not None else \"??\"\n",
    "    # patterns vary by product\n",
    "    along_track_products = (\"ATL03\", \"ATL04\", \"ATL06\", \"ATL08\",\n",
    "        \"ATL09\", \"ATL10\", \"ATL12\", \"ATL13\", \"ATL16\", \"ATL17\",\n",
    "        \"ATL19\", \"ATL22\", \"ATL24\")\n",
    "    sea_ice_products = (\"ATL07\", \"ATL10\", \"ATL20\", \"ATL21\")\n",
    "    # use single character wildcards \"?\" for any unset parameters\n",
    "    if short_name in sea_ice_products:\n",
    "        return f\"{short_name}-{hh}_{14 * '?'}_{tttt}{cc}??_*\"\n",
    "    elif short_name in along_track_products:\n",
    "        return f\"{short_name}_{14 * '?'}_{tttt}{cc}{nn}_*\""
   ]
  },
  {
   "cell_type": "code",
   "execution_count": null,
   "id": "b7d524cc-3302-4fff-873b-1a00fe376bb9",
   "metadata": {},
   "outputs": [],
   "source": [
    "# build credentials for accessing ICESat-2 data\n",
    "auth = earthaccess.login(strategy=\"environment\")\n",
    "# query CMR for ATL06 files\n",
    "pattern = build_granule_name(short_name=\"ATL06\", track=9, cycle=14, granule=12)\n",
    "granules = earthaccess.search_data(\n",
    "    short_name=\"ATL06\",\n",
    "    granule_name=pattern,\n",
    ")\n",
    "granules[0]"
   ]
  },
  {
   "cell_type": "code",
   "execution_count": null,
   "id": "481e24d0-25e7-4d28-b9f0-2affe02ba118",
   "metadata": {},
   "outputs": [],
   "source": [
    "# download or stream ATL06 granules\n",
    "if (AWS_DEFAULT_REGION == 'us-west-2'):\n",
    "    buffers = earthaccess.open(granules)\n",
    "else:\n",
    "    buffers = earthaccess.download(granules, local_path='.')\n",
    "# read multiple HDF5 groups and merge into a dataset\n",
    "groups = ['gt1l/land_ice_segments', 'gt1l/land_ice_segments/dem']\n",
    "ds = xr.merge([xr.open_dataset(buffers[0], group=g) for g in groups])\n",
    "# inspect ATL06 data for beam group\n",
    "ds"
   ]
  },
  {
   "cell_type": "markdown",
   "id": "d693bb6c-40a3-49df-af11-a6a7dcbe3fa5",
   "metadata": {},
   "source": [
    "`xarray` has a handy `to_dataframe` function to convert to `pandas`"
   ]
  },
  {
   "cell_type": "code",
   "execution_count": null,
   "id": "626dadb0-44e4-48d2-a99c-a7549989c65b",
   "metadata": {},
   "outputs": [],
   "source": [
    "# For simplicity take first 500 high-quality points into a Geopandas Geodataframe\n",
    "df = ds.where(ds.atl06_quality_summary==0).isel(delta_time=slice(0,500)).to_dataframe()\n",
    "gdf = gpd.GeoDataFrame(df, geometry=gpd.points_from_xy(df.longitude, df.latitude), crs='epsg:7661')\n",
    "gdf.head()"
   ]
  },
  {
   "cell_type": "markdown",
   "id": "a770088d-6e41-48ed-9112-ab99a116f18c",
   "metadata": {},
   "source": [
    "use `explore` to create an interactive map of our ICESat-2 points"
   ]
  },
  {
   "cell_type": "code",
   "execution_count": null,
   "id": "fa005156-4f19-473f-a180-d2ad56e3d3a6",
   "metadata": {},
   "outputs": [],
   "source": [
    "gdf.explore(column='h_li')"
   ]
  },
  {
   "cell_type": "markdown",
   "id": "f2bd3934-e612-42f2-aedd-9688f4f6ec92",
   "metadata": {},
   "source": [
    "### Copernicus DEM\n",
    "\n",
    "Let's compare ICESat-2 elevations against a public, gridded global digital elevation model (DEM), the [Copernicus DEM](https://portal.opentopography.org/raster?opentopoID=OTSDEM.032021.4326.3). This DEM is with respect to the EGM2008 geoid, and so we'll have to convert our ICESat-2 points to be comparable.\n",
    "\n",
    "Just as Geopandas adds CRS-aware capabilities to Dataframes, RioXarray adds CRS-aware functions to XArray multidimensional arrays (e.g. sets of images)."
   ]
  },
  {
   "cell_type": "code",
   "execution_count": null,
   "id": "e1cef692-6c80-4f01-a87a-3276636a7c92",
   "metadata": {},
   "outputs": [],
   "source": [
    "COP30 = rioxarray.open_rasterio('https://opentopography.s3.sdsc.edu/raster/COP30/COP30_hh.vrt', chunks=True)\n",
    "# Crop by Bounding box of all the ATL06 points\n",
    "minx, miny, maxx, maxy = gdf.total_bounds\n",
    "COP30 = COP30.rio.clip_box(minx, miny, maxx, maxy).sel(band=1)\n",
    "COP30"
   ]
  },
  {
   "cell_type": "markdown",
   "id": "ea80bcf7-bd6e-4921-b30c-1e7b72dcd300",
   "metadata": {},
   "source": [
    "### Convert ATL06 Ellipsoidal Heights to Orthometric\n",
    "Check out the [ICESat-2 User Comparison Guide](https://doi.org/10.5281/zenodo.16389970) for more info"
   ]
  },
  {
   "cell_type": "code",
   "execution_count": null,
   "id": "360929a9-a175-4bb7-9a28-3373aa051c09",
   "metadata": {},
   "outputs": [],
   "source": [
    "gdf['h_ortho'] = gdf.h_li - (gdf.geoid_h + gdf.geoid_free2mean)\n",
    "# calculate elevation difference between ATL06 and COP30\n",
    "x = xr.DataArray(gdf.geometry.x.values, dims='z')\n",
    "y = xr.DataArray(gdf.geometry.y.values, dims='z')\n",
    "gdf['dh'] = gdf.h_ortho - COP30.sel(x=x, y=y, method='nearest')"
   ]
  },
  {
   "cell_type": "markdown",
   "id": "fc548137-c1d6-4efa-a6c7-cec34e72d1f9",
   "metadata": {},
   "source": [
    "### Compare COP30 DEM with ATL06"
   ]
  },
  {
   "cell_type": "code",
   "execution_count": null,
   "id": "9de84719-ae25-400a-8650-19dcc05ec185",
   "metadata": {},
   "outputs": [],
   "source": [
    "fig, ax = plt.subplots(ncols=3, sharex=True, sharey=True)\n",
    "cmap1 = plt.get_cmap('viridis')\n",
    "cmap2 = plt.get_cmap('coolwarm')\n",
    "vmin = np.minimum(COP30.min().values, gdf.h_ortho.min())\n",
    "vmax = np.maximum(COP30.max().values, gdf.h_ortho.max())\n",
    "COP30.plot.imshow(ax=ax[0], cmap=cmap1, vmin=vmin, vmax=vmax, add_labels=False, add_colorbar=False)\n",
    "gdf.plot(column=\"h_ortho\", ax=ax[1], cmap=cmap1, vmin=vmin, vmax=vmax, markersize=1, legend=True)\n",
    "gdf.plot(column=\"dh\", ax=ax[2], cmap=cmap2, norm=mcolors.CenteredNorm(), markersize=1, legend=True)\n",
    "fig.tight_layout()\n",
    "plt.show()"
   ]
  },
  {
   "cell_type": "markdown",
   "id": "53840907-e298-47d6-8d45-a87cd5d6bb7f",
   "metadata": {},
   "source": [
    "## Resources\n",
    "\n",
    "There is a _lot_ of great educational material to learn more about these topics. We recommend checking out:\n",
    "\n",
    "* [UW Cryo 3D CRS Guide](https://uw-cryo.github.io/3D_CRS_Transformation_Resources/)\n",
    "* [UW Geospatial Data Analaysis with Python](https://uwgda-jupyterbook.readthedocs.io/en/latest/intro.html)\n",
    "* [PennState GPS & GNSS for Geospatial Professionals](https://www.e-education.psu.edu/geog862/node/1794)\n",
    "* [Qinsy Geodetic Documentation](https://confluence.qps.nl/qinsy/latest/en/how-to-geodetic-items-235803916.html)\n",
    "* [GISGeography](https://gisgeography.com/)"
   ]
  },
  {
   "cell_type": "code",
   "execution_count": null,
   "id": "8f36fd70-4e55-4013-a0c3-2c62d4359bb8",
   "metadata": {},
   "outputs": [],
   "source": []
  }
 ],
 "metadata": {
  "kernelspec": {
   "display_name": "Python 3 (ipykernel)",
   "language": "python",
   "name": "python3"
  },
  "language_info": {
   "codemirror_mode": {
    "name": "ipython",
    "version": 3
   },
   "file_extension": ".py",
   "mimetype": "text/x-python",
   "name": "python",
   "nbconvert_exporter": "python",
   "pygments_lexer": "ipython3",
   "version": "3.11.11"
  }
 },
 "nbformat": 4,
 "nbformat_minor": 5
}
